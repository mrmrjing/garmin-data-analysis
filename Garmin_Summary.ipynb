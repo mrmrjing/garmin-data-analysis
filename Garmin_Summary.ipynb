{
 "cells": [
  {
   "cell_type": "markdown",
   "metadata": {},
   "source": [
    "# Import necessary libraries "
   ]
  },
  {
   "cell_type": "code",
   "execution_count": null,
   "metadata": {},
   "outputs": [],
   "source": [
    "# Import necessary libraries\n",
    "import sqlite3\n",
    "import datetime \n",
    "import matplotlib.pyplot as plt\n",
    "import pandas as pd\n",
    "import matplotlib.dates as mdates\n",
    "import seaborn as sns\n",
    "import numpy as np\n",
    "import plotly.graph_objects as go\n",
    "import garmindb\n",
    "import plotly.express as px\n",
    "from plotly.subplots import make_subplots"
   ]
  },
  {
   "cell_type": "markdown",
   "metadata": {},
   "source": [
    "# Connect to the database"
   ]
  },
  {
   "cell_type": "code",
   "execution_count": null,
   "metadata": {},
   "outputs": [],
   "source": [
    "garmin_summary = sqlite3.connect('/Users/hongjingtoh/HealthData/DBs/garmin_summary.db')"
   ]
  },
  {
   "cell_type": "markdown",
   "metadata": {},
   "source": [
    "# Helper function to list the tables in the database "
   ]
  },
  {
   "cell_type": "code",
   "execution_count": null,
   "metadata": {},
   "outputs": [],
   "source": [
    "def list_tables(db_connection):\n",
    "    cursor = db_connection.cursor()\n",
    "    cursor.execute(\"SELECT name FROM sqlite_master WHERE type='table';\")\n",
    "    tables = cursor.fetchall()\n",
    "    cursor.close()\n",
    "    return [table[0] for table in tables]"
   ]
  },
  {
   "cell_type": "markdown",
   "metadata": {},
   "source": [
    "# Preliminary data inspection"
   ]
  },
  {
   "cell_type": "markdown",
   "metadata": {},
   "source": [
    "## Print the tables in the database"
   ]
  },
  {
   "cell_type": "code",
   "execution_count": null,
   "metadata": {},
   "outputs": [],
   "source": [
    "print(\"Garmin Summary Tables:\", list_tables(garmin_summary))"
   ]
  },
  {
   "cell_type": "markdown",
   "metadata": {},
   "source": [
    "## Inspect the `summary` tabe "
   ]
  },
  {
   "cell_type": "code",
   "execution_count": null,
   "metadata": {},
   "outputs": [],
   "source": [
    "df_summary = pd.read_sql_query(\"SELECT * FROM summary\", garmin_summary)\n",
    "print(df_summary.head())"
   ]
  },
  {
   "cell_type": "markdown",
   "metadata": {},
   "source": [
    "## Inspect and clean the `years_summary` table"
   ]
  },
  {
   "cell_type": "code",
   "execution_count": null,
   "metadata": {},
   "outputs": [],
   "source": [
    "df_years_summary = pd.read_sql_query(\"SELECT * FROM years_summary\", garmin_summary)\n",
    "print(df_years_summary.head())\n",
    "\n",
    "# Summary statistics\n",
    "print(df_years_summary.describe())\n",
    "\n",
    "# Check for missing values (null values)\n",
    "print(df_years_summary.isnull().sum())\n"
   ]
  },
  {
   "cell_type": "markdown",
   "metadata": {},
   "source": [
    "### Data cleaning "
   ]
  },
  {
   "cell_type": "code",
   "execution_count": null,
   "metadata": {},
   "outputs": [],
   "source": [
    "# Fill missing values with mean for continuous variables\n",
    "df_years_summary['spo2_avg'] = df_years_summary['spo2_avg'].fillna(df_years_summary['spo2_avg'].mean())\n",
    "df_years_summary['spo2_min'] = df_years_summary['spo2_min'].fillna(df_years_summary['spo2_min'].mean())\n",
    "\n",
    "# Drop columns with all missing values (if any)\n",
    "df_years_summary = df_years_summary.drop(columns=['calories_avg', 'calories_consumed_avg'])\n",
    "\n",
    "# Print to check if missing values are filled\n",
    "print(df_years_summary.isnull().sum())"
   ]
  },
  {
   "cell_type": "markdown",
   "metadata": {},
   "source": [
    "## Inspect and clean the `months_summary` table"
   ]
  },
  {
   "cell_type": "code",
   "execution_count": null,
   "metadata": {},
   "outputs": [],
   "source": [
    "df_months_summary = pd.read_sql_query(\"SELECT * FROM months_summary\", garmin_summary)\n",
    "print(df_months_summary.head())\n",
    "\n",
    "# Summary statistics\n",
    "print(df_months_summary.describe())\n",
    "\n",
    "# Check for missing values (null values)\n",
    "print(df_months_summary.isnull().sum())\n"
   ]
  },
  {
   "cell_type": "markdown",
   "metadata": {},
   "source": [
    "## Data Cleaning"
   ]
  },
  {
   "cell_type": "code",
   "execution_count": null,
   "metadata": {},
   "outputs": [],
   "source": [
    "\n",
    "# Fill missing values with the mean for each column directly assigning the result\n",
    "df_months_summary['hr_avg'] = df_months_summary['hr_avg'].fillna(df_months_summary['hr_avg'].mean())\n",
    "df_months_summary['hr_max'] = df_months_summary['hr_max'].fillna(df_months_summary['hr_max'].mean())\n",
    "df_months_summary['hr_min'] = df_months_summary['hr_min'].fillna(df_months_summary['hr_min'].mean())\n",
    "df_months_summary['spo2_avg'] = df_months_summary['spo2_avg'].fillna(df_months_summary['spo2_avg'].mean())\n",
    "df_months_summary['spo2_min'] = df_months_summary['spo2_min'].fillna(df_months_summary['spo2_min'].mean())\n",
    "df_months_summary['steps'] = df_months_summary['steps'].fillna(df_months_summary['steps'].mean())\n",
    "df_months_summary['steps_goal'] = df_months_summary['steps_goal'].fillna(df_months_summary['steps_goal'].mean())\n",
    "df_months_summary['rhr_avg'] = df_months_summary['rhr_avg'].fillna(df_months_summary['rhr_avg'].mean())\n",
    "df_months_summary['rhr_max'] = df_months_summary['rhr_max'].fillna(df_months_summary['rhr_max'].mean())\n",
    "df_months_summary['rhr_min'] = df_months_summary['rhr_min'].fillna(df_months_summary['rhr_min'].mean())\n",
    "df_months_summary['inactive_hr_avg'] = df_months_summary['inactive_hr_avg'].fillna(df_months_summary['inactive_hr_avg'].mean())\n",
    "df_months_summary['inactive_hr_min'] = df_months_summary['inactive_hr_min'].fillna(df_months_summary['inactive_hr_min'].mean())\n",
    "df_months_summary['inactive_hr_max'] = df_months_summary['inactive_hr_max'].fillna(df_months_summary['inactive_hr_max'].mean())\n",
    "df_months_summary['weight_avg'] = df_months_summary['weight_avg'].fillna(df_months_summary['weight_avg'].mean())\n",
    "df_months_summary['weight_max'] = df_months_summary['weight_max'].fillna(df_months_summary['weight_max'].mean())\n",
    "df_months_summary['weight_min'] = df_months_summary['weight_min'].fillna(df_months_summary['weight_min'].mean())\n",
    "df_months_summary['floors'] = df_months_summary['floors'].fillna(df_months_summary['floors'].mean())\n",
    "df_months_summary['floors_goal'] = df_months_summary['floors_goal'].fillna(df_months_summary['floors_goal'].mean())\n",
    "df_months_summary['stress_avg'] = df_months_summary['stress_avg'].fillna(df_months_summary['stress_avg'].mean())\n",
    "df_months_summary['calories_avg'] = df_months_summary['calories_avg'].fillna(df_months_summary['calories_avg'].mean())\n",
    "df_months_summary['calories_bmr_avg'] = df_months_summary['calories_bmr_avg'].fillna(df_months_summary['calories_bmr_avg'].mean())\n",
    "df_months_summary['calories_active_avg'] = df_months_summary['calories_active_avg'].fillna(df_months_summary['calories_active_avg'].mean())\n",
    "df_months_summary['activities'] = df_months_summary['activities'].fillna(df_months_summary['activities'].mean())\n",
    "df_months_summary['activities_calories'] = df_months_summary['activities_calories'].fillna(df_months_summary['activities_calories'].mean())\n",
    "df_months_summary['activities_distance'] = df_months_summary['activities_distance'].fillna(df_months_summary['activities_distance'].mean())\n",
    "df_months_summary['hydration_goal'] = df_months_summary['hydration_goal'].fillna(df_months_summary['hydration_goal'].mean())\n",
    "df_months_summary['hydration_avg'] = df_months_summary['hydration_avg'].fillna(df_months_summary['hydration_avg'].mean())\n",
    "df_months_summary['hydration_intake'] = df_months_summary['hydration_intake'].fillna(df_months_summary['hydration_intake'].mean())\n",
    "df_months_summary['sweat_loss_avg'] = df_months_summary['sweat_loss_avg'].fillna(df_months_summary['sweat_loss_avg'].mean())\n",
    "df_months_summary['sweat_loss'] = df_months_summary['sweat_loss'].fillna(df_months_summary['sweat_loss'].mean())\n",
    "df_months_summary['rr_waking_avg'] = df_months_summary['rr_waking_avg'].fillna(df_months_summary['rr_waking_avg'].mean())\n",
    "df_months_summary['rr_max'] = df_months_summary['rr_max'].fillna(df_months_summary['rr_max'].mean())\n",
    "df_months_summary['rr_min'] = df_months_summary['rr_min'].fillna(df_months_summary['rr_min'].mean())\n",
    "df_months_summary['bb_max'] = df_months_summary['bb_max'].fillna(df_months_summary['bb_max'].mean())\n",
    "df_months_summary['bb_min'] = df_months_summary['bb_min'].fillna(df_months_summary['bb_min'].mean())\n",
    "\n",
    "# Fill calories_goal if you decide to keep it\n",
    "df_months_summary['calories_goal'] = df_months_summary['calories_goal'].fillna(df_months_summary['calories_goal'].mean())\n",
    "\n",
    "# Drop columns with all missing values if still needed\n",
    "df_months_summary = df_months_summary.drop(columns=['calories_consumed_avg'])\n",
    "\n",
    "# Check if missing values are filled\n",
    "print(df_months_summary.isnull().sum())"
   ]
  },
  {
   "cell_type": "markdown",
   "metadata": {},
   "source": [
    "## Inspect the `weeks_summary` table"
   ]
  },
  {
   "cell_type": "code",
   "execution_count": null,
   "metadata": {},
   "outputs": [],
   "source": [
    "df_weeks_summary = pd.read_sql_query(\"SELECT * FROM weeks_summary\", garmin_summary)\n",
    "print(df_weeks_summary.head())"
   ]
  },
  {
   "cell_type": "markdown",
   "metadata": {},
   "source": [
    "## Inspect the `days_sumamry` table"
   ]
  },
  {
   "cell_type": "code",
   "execution_count": null,
   "metadata": {},
   "outputs": [],
   "source": [
    "df_days_summary = pd.read_sql_query(\"SELECT * FROM days_summary\", garmin_summary)\n",
    "print(df_days_summary.head())  # Print the first few rows to inspect the data"
   ]
  },
  {
   "cell_type": "markdown",
   "metadata": {},
   "source": [
    "## Inspect the `intensity_hr` table"
   ]
  },
  {
   "cell_type": "code",
   "execution_count": null,
   "metadata": {},
   "outputs": [],
   "source": [
    "df_intensity_hr = pd.read_sql_query(\"SELECT * FROM intensity_hr\", garmin_summary)\n",
    "print(df_intensity_hr.head())"
   ]
  },
  {
   "cell_type": "markdown",
   "metadata": {},
   "source": [
    "# Analysing the `years_summary` table"
   ]
  },
  {
   "cell_type": "markdown",
   "metadata": {},
   "source": [
    "## The entire years_summary table"
   ]
  },
  {
   "cell_type": "code",
   "execution_count": null,
   "metadata": {},
   "outputs": [],
   "source": [
    "# display the DataFrame\n",
    "df_years_summary"
   ]
  },
  {
   "cell_type": "markdown",
   "metadata": {},
   "source": [
    "1. Average Heart Rate"
   ]
  },
  {
   "cell_type": "code",
   "execution_count": null,
   "metadata": {},
   "outputs": [],
   "source": [
    "# Convert 'first_day' to datetime and set as index\n",
    "df_months_summary['first_day'] = pd.to_datetime(df_months_summary['first_day'])\n",
    "df_years_summary.set_index('first_day', inplace=True)\n",
    "\n",
    "# Plotting trends\n",
    "plt.figure(figsize=(12, 8))\n",
    "df_years_summary[['hr_avg', 'rhr_avg', 'inactive_hr_avg']].plot(marker='o')\n",
    "plt.title('Trend Analysis of Heart Rates over Years')\n",
    "plt.xlabel('Year')\n",
    "plt.ylabel('Heart Rate (bpm)')\n",
    "plt.legend(['Average HR', 'Average Resting HR', 'Average Inactive HR'])\n",
    "plt.grid(True)\n",
    "plt.show()"
   ]
  },
  {
   "cell_type": "markdown",
   "metadata": {},
   "source": [
    "2. Min and Max heart rates"
   ]
  },
  {
   "cell_type": "code",
   "execution_count": null,
   "metadata": {},
   "outputs": [],
   "source": [
    "# Comparing min and max heart rates\n",
    "plt.figure(figsize=(10, 6))\n",
    "plt.bar(df_years_summary.index.year - 0.2, df_years_summary['hr_min'], width=0.4, label='Min HR')\n",
    "plt.bar(df_years_summary.index.year + 0.2, df_years_summary['hr_max'], width=0.4, label='Max HR')\n",
    "plt.xlabel('Year')\n",
    "plt.ylabel('Heart Rate (bpm)')\n",
    "plt.title('Comparison of Min and Max Heart Rates Over Years')\n",
    "plt.legend()\n",
    "plt.show()\n"
   ]
  },
  {
   "cell_type": "markdown",
   "metadata": {},
   "source": [
    "3. Weight "
   ]
  },
  {
   "cell_type": "code",
   "execution_count": null,
   "metadata": {},
   "outputs": [],
   "source": [
    "# Create a figure\n",
    "fig = go.Figure()\n",
    "\n",
    "# Add traces for average, minimum, and maximum weight\n",
    "fig.add_trace(go.Scatter(x=df_years_summary.index, y=df_years_summary['weight_avg'], mode='lines+markers', name='Average Weight'))\n",
    "fig.add_trace(go.Scatter(x=df_years_summary.index, y=df_years_summary['weight_min'], mode='lines+markers', name='Minimum Weight'))\n",
    "fig.add_trace(go.Scatter(x=df_years_summary.index, y=df_years_summary['weight_max'], mode='lines+markers', name='Maximum Weight'))\n",
    "\n",
    "# Update the layout\n",
    "fig.update_layout(\n",
    "    title='Weight Trend Analysis Over Years',\n",
    "    xaxis_title='Year',\n",
    "    yaxis_title='Weight (kg)',\n",
    "    template='plotly_white'\n",
    ")\n",
    "\n",
    "# Add detailed hover information\n",
    "fig.update_traces(\n",
    "    hoverinfo='all',\n",
    "    hovertemplate='Year: %{x}<br>Weight: %{y:.2f} kg'\n",
    ")\n",
    "\n",
    "# Add annotations for specific events or notes\n",
    "fig.add_annotation(\n",
    "    x='2022-01-01',  # Specific date or event\n",
    "    y=df_years_summary.loc['2022-01-01', 'weight_avg'],\n",
    "    text='Notable weight change',\n",
    "    showarrow=True,\n",
    "    arrowhead=1\n",
    ")\n",
    "\n",
    "fig.update_layout(\n",
    "    hovermode='x unified'  # Unified hover labels across all traces\n",
    ")\n",
    "\n",
    "\n",
    "# Show the plot\n",
    "fig.show()"
   ]
  },
  {
   "cell_type": "markdown",
   "metadata": {},
   "source": [
    "4. Activity time and weight over time"
   ]
  },
  {
   "cell_type": "code",
   "execution_count": null,
   "metadata": {},
   "outputs": [],
   "source": [
    "\n",
    "# Create a figure with secondary y-axis\n",
    "fig = make_subplots(specs=[[{\"secondary_y\": True}]])\n",
    "\n",
    "# Add traces for activity times on the primary y-axis\n",
    "fig.add_trace(go.Scatter(x=df_years_summary.index, y=df_years_summary['intensity_time'], name='Intensity Time'), secondary_y=False)\n",
    "fig.add_trace(go.Scatter(x=df_years_summary.index, y=df_years_summary['moderate_activity_time'], name='Moderate Activity Time'), secondary_y=False)\n",
    "fig.add_trace(go.Scatter(x=df_years_summary.index, y=df_years_summary['vigorous_activity_time'], name='Vigorous Activity Time'), secondary_y=False)\n",
    "\n",
    "# Add trace for weight on the secondary y-axis\n",
    "fig.add_trace(go.Scatter(x=df_years_summary.index, y=df_years_summary['weight_avg'], name='Average Weight', marker_color='black'), secondary_y=True)\n",
    "\n",
    "# Update layout\n",
    "fig.update_layout(title='Activity Time and Weight Trends Over Time', xaxis_title='Year')\n",
    "fig.update_yaxes(title_text=\"Activity Time (minutes)\", secondary_y=False)\n",
    "fig.update_yaxes(title_text=\"Average Weight (kg)\", secondary_y=True)\n",
    "\n",
    "# Show the plot\n",
    "fig.show()"
   ]
  },
  {
   "cell_type": "markdown",
   "metadata": {},
   "source": [
    "5. Steps over time "
   ]
  },
  {
   "cell_type": "code",
   "execution_count": null,
   "metadata": {},
   "outputs": [],
   "source": [
    "# Create a figure\n",
    "fig = go.Figure()\n",
    "\n",
    "# Add a trace for the steps\n",
    "fig.add_trace(\n",
    "    go.Scatter(x=df_years_summary.index, y=df_years_summary['steps'], mode='lines+markers', name='Steps')\n",
    ")\n",
    "\n",
    "# Update the layout\n",
    "fig.update_layout(\n",
    "    title='Trend of Steps Over the Years',\n",
    "    xaxis_title='Year',\n",
    "    yaxis_title='Number of Steps',\n",
    "    template='plotly_white'\n",
    ")\n",
    "\n",
    "# Show the plot\n",
    "fig.show()"
   ]
  },
  {
   "cell_type": "markdown",
   "metadata": {},
   "source": [
    "6. Sleep "
   ]
  },
  {
   "cell_type": "code",
   "execution_count": null,
   "metadata": {},
   "outputs": [],
   "source": [
    "def convert_time_to_hours(time_str):\n",
    "    if pd.isna(time_str):\n",
    "        return None\n",
    "    try:\n",
    "        # Splitting the time string and extracting hours, minutes, and seconds\n",
    "        time_parts = time_str.split(':')\n",
    "        hours = int(time_parts[0])\n",
    "        minutes = int(time_parts[1])\n",
    "        seconds = int(time_parts[2].split('.')[0])  # Split to ignore milliseconds\n",
    "        return hours + minutes / 60 + seconds / 3600\n",
    "    except ValueError:\n",
    "        # If the format isn't as expected, print an error message\n",
    "        print(f\"Format error with the value: {time_str}\")\n",
    "        return None\n",
    "\n",
    "\n",
    "# Apply this conversion to your relevant columns\n",
    "df_years_summary['sleep_avg'] = df_years_summary['sleep_avg'].apply(convert_time_to_hours)\n",
    "df_years_summary['rem_sleep_avg'] = df_years_summary['rem_sleep_avg'].apply(convert_time_to_hours)\n",
    "df_years_summary['sleep_max'] = df_years_summary['sleep_max'].apply(convert_time_to_hours)\n",
    "df_years_summary['rem_sleep_max'] = df_years_summary['rem_sleep_max'].apply(convert_time_to_hours)"
   ]
  },
  {
   "cell_type": "code",
   "execution_count": null,
   "metadata": {},
   "outputs": [],
   "source": [
    "sleep_stats = df_years_summary.describe()  \n",
    "print(sleep_stats)"
   ]
  },
  {
   "cell_type": "code",
   "execution_count": null,
   "metadata": {},
   "outputs": [],
   "source": [
    "# Check the data in 'sleep_avg' and 'rem_sleep_avg' after applying conversion\n",
    "print(df_years_summary['sleep_avg'].dropna())\n",
    "print(df_years_summary['rem_sleep_avg'].dropna())\n"
   ]
  },
  {
   "cell_type": "code",
   "execution_count": null,
   "metadata": {},
   "outputs": [],
   "source": [
    "print(df_years_summary[['sleep_avg', 'rem_sleep_avg']].head())\n"
   ]
  },
  {
   "cell_type": "code",
   "execution_count": null,
   "metadata": {},
   "outputs": [],
   "source": [
    "# Histograms for sleep data\n",
    "plt.figure(figsize=(12, 8))\n",
    "for i, column in enumerate(['sleep_avg', 'rem_sleep_avg']):\n",
    "    plt.subplot(2, 1, i + 1)\n",
    "    sns.histplot(df_years_summary[column].dropna(), kde=True) \n",
    "    plt.title(f'Distribution of {column}')\n",
    "    plt.xlabel('Hours')\n",
    "    plt.ylabel('Frequency')\n",
    "plt.tight_layout()\n",
    "plt.show()"
   ]
  },
  {
   "cell_type": "code",
   "execution_count": null,
   "metadata": {},
   "outputs": [],
   "source": [
    "plt.figure(figsize=(14, 8))\n",
    "plt.plot(df_years_summary.index, df_years_summary['sleep_avg'], label='Average Sleep', marker='o')\n",
    "plt.plot(df_years_summary.index, df_years_summary['rem_sleep_avg'], label='Average REM Sleep', marker='o')\n",
    "plt.title('Sleep and REM Sleep Trends Over Time')\n",
    "plt.xlabel('Year')\n",
    "plt.ylabel('Hours')\n",
    "plt.ylim(ymin=0, ymax=10)  # Set appropriate limits based on your data range\n",
    "plt.legend()\n",
    "plt.grid(True)\n",
    "plt.show()"
   ]
  },
  {
   "cell_type": "markdown",
   "metadata": {},
   "source": [
    "7. Stress average "
   ]
  },
  {
   "cell_type": "code",
   "execution_count": null,
   "metadata": {},
   "outputs": [],
   "source": [
    "# Calculate basic statistics\n",
    "stress_stats = df_years_summary['stress_avg'].describe()\n",
    "print(stress_stats)\n",
    "\n",
    "# Trend over time (assuming there is a 'date' column)\n",
    "plt.figure(figsize=(10, 5))\n",
    "df_years_summary['stress_avg'].plot(title='Stress Level Over Time')\n",
    "plt.title('Stress Level Over Time')\n",
    "plt.xlabel('Date')\n",
    "plt.ylabel('Stress Level')\n",
    "plt.grid(True)\n",
    "plt.show()\n",
    "\n",
    "# Histogram of stress levels\n",
    "plt.figure(figsize=(6, 4))\n",
    "sns.histplot(df_years_summary['stress_avg'], kde=True)\n",
    "plt.title('Distribution of Stress Levels')\n",
    "plt.xlabel('Stress Level')\n",
    "plt.ylabel('Frequency')\n",
    "plt.show()\n",
    "\n",
    "# Box plot to visualize spread and outliers\n",
    "plt.figure(figsize=(6, 4))\n",
    "sns.boxplot(x=df_years_summary['stress_avg'])\n",
    "plt.title('Box Plot of Stress Levels')\n",
    "plt.xlabel('Stress Level')\n",
    "plt.show()"
   ]
  },
  {
   "cell_type": "markdown",
   "metadata": {},
   "source": [
    "# Analysing the `months_summary` table "
   ]
  },
  {
   "cell_type": "code",
   "execution_count": null,
   "metadata": {},
   "outputs": [],
   "source": [
    "# Histograms for each numeric feature\n",
    "df_months_summary.hist(bins=15, figsize=(15, 15))\n",
    "plt.show()\n",
    "\n",
    "# Option 1: Simple box plot with all columns\n",
    "fig = go.Figure()\n",
    "for column in df_months_summary.columns:\n",
    "    fig.add_trace(go.Box(y=df_months_summary[column], name=column))\n",
    "\n",
    "fig.update_layout(\n",
    "    title='Box Plot of Daily Summaries',\n",
    "    yaxis_title='Values',\n",
    "    xaxis_title='Variables',\n",
    "    template='plotly_white'\n",
    ")\n",
    "fig.show()"
   ]
  },
  {
   "cell_type": "markdown",
   "metadata": {},
   "source": [
    "# Analysing the `weeks_summary` table "
   ]
  },
  {
   "cell_type": "code",
   "execution_count": null,
   "metadata": {},
   "outputs": [],
   "source": [
    "# Histograms for each numeric feature\n",
    "df_weeks_summary.hist(bins=15, figsize=(15, 15))\n",
    "plt.show()\n",
    "\n",
    "# Option 1: Simple box plot with all columns\n",
    "fig = go.Figure()\n",
    "for column in df_weeks_summary.columns:\n",
    "    fig.add_trace(go.Box(y=df_weeks_summary[column], name=column))\n",
    "\n",
    "fig.update_layout(\n",
    "    title='Box Plot of Daily Summaries',\n",
    "    yaxis_title='Values',\n",
    "    xaxis_title='Variables',\n",
    "    template='plotly_white'\n",
    ")\n",
    "fig.show()"
   ]
  },
  {
   "cell_type": "markdown",
   "metadata": {},
   "source": [
    "# Analysing the `days_summary` table"
   ]
  },
  {
   "cell_type": "code",
   "execution_count": null,
   "metadata": {},
   "outputs": [],
   "source": [
    "# Histograms for each numeric feature\n",
    "df_days_summary.hist(bins=15, figsize=(15, 15))\n",
    "plt.show()\n",
    "\n",
    "# Option 1: Simple box plot with all columns\n",
    "fig = go.Figure()\n",
    "for column in df_days_summary.columns:\n",
    "    fig.add_trace(go.Box(y=df_days_summary[column], name=column))\n",
    "\n",
    "fig.update_layout(\n",
    "    title='Box Plot of Daily Summaries',\n",
    "    yaxis_title='Values',\n",
    "    xaxis_title='Variables',\n",
    "    template='plotly_white'\n",
    ")\n",
    "fig.show()"
   ]
  },
  {
   "cell_type": "code",
   "execution_count": null,
   "metadata": {},
   "outputs": [],
   "source": [
    "\n",
    "df_days_summary['date'] = pd.to_datetime(df_days_summary['first_day'])  # Ensure 'date' is datetime type\n",
    "df_days_summary.set_index('date', inplace=True)\n",
    "\n",
    "plt.figure(figsize=(12, 6))\n",
    "df_days_summary['hr_avg'].rolling(window=7).mean().plot()  # 7-day rolling average\n",
    "plt.title('7-Day Rolling Average of Heart Rate')\n",
    "plt.xlabel('Date')\n",
    "plt.ylabel('Average Heart Rate (bpm)')\n",
    "plt.show()\n"
   ]
  },
  {
   "cell_type": "code",
   "execution_count": null,
   "metadata": {},
   "outputs": [],
   "source": [
    "# Histogram of a key metric, e.g., average heart rate\n",
    "plt.figure(figsize=(10, 6))\n",
    "sns.histplot(df_days_summary['hr_avg'], kde=True)\n",
    "plt.title('Distribution of Average Heart Rate')\n",
    "plt.xlabel('Average Heart Rate (bpm)')\n",
    "plt.ylabel('Frequency')\n",
    "plt.show()\n"
   ]
  },
  {
   "cell_type": "markdown",
   "metadata": {},
   "source": [
    "# Analysing the `intensity_hr` table"
   ]
  },
  {
   "cell_type": "markdown",
   "metadata": {},
   "source": []
  }
 ],
 "metadata": {
  "kernelspec": {
   "display_name": "env",
   "language": "python",
   "name": "python3"
  },
  "language_info": {
   "codemirror_mode": {
    "name": "ipython",
    "version": 3
   },
   "file_extension": ".py",
   "mimetype": "text/x-python",
   "name": "python",
   "nbconvert_exporter": "python",
   "pygments_lexer": "ipython3",
   "version": "3.12.4"
  }
 },
 "nbformat": 4,
 "nbformat_minor": 2
}
